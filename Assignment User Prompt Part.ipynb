{
 "cells": [
  {
   "cell_type": "markdown",
   "metadata": {},
   "source": [
    "# Load the Model from Pickle"
   ]
  },
  {
   "cell_type": "code",
   "execution_count": null,
   "metadata": {},
   "outputs": [],
   "source": [
    "import pickle\n",
    "\n",
    "with open(\"model_pickle\", \"rb\") as f: # rb = read binary\n",
    "    best_model = pickle.load(f)"
   ]
  },
  {
   "cell_type": "markdown",
   "metadata": {},
   "source": [
    "## Get User Prompt and Predict the Result\n",
    "\n",
    "It may available the user to insert the desirable features, and predict the gender based on the features."
   ]
  },
  {
   "cell_type": "code",
   "execution_count": null,
   "metadata": {},
   "outputs": [],
   "source": [
    "def check_input(prompt_text, orint):\n",
    "    while True:\n",
    "        if orint:\n",
    "            try:\n",
    "                num = int(input(prompt_text))\n",
    "                if num == 0 or num == 1:\n",
    "                    break\n",
    "                else:\n",
    "                    print('Only binary input is accepted, please enter again.\\n')\n",
    "                break\n",
    "            except:\n",
    "                print('Only integer input is accepted, please enter again.\\n')\n",
    "        else:\n",
    "            try:\n",
    "                num = float(input(prompt_text))\n",
    "                if num > 0:\n",
    "                    break\n",
    "                else:\n",
    "                    print('Only positive input is accepted, please enter again.\\n')\n",
    "            except:\n",
    "                print('Only number input is accepted, please enter again.\\n')\n",
    "    return num"
   ]
  },
  {
   "cell_type": "code",
   "execution_count": null,
   "metadata": {},
   "outputs": [],
   "source": [
    "print(\"Please enter the value for the facial part below:\\n\")\n",
    "\n",
    "forehead_width = check_input('What is the width of the forehead(in cm)?  ', 0)\n",
    "forehead_height = check_input('What is the height of the forehead(in cm)? ', 0)\n",
    "\n",
    "print(\"\\n\\nPlease enter only 0 (= No) or 1 (= Yes) for the facial part below:\\n\")\n",
    "\n",
    "hair = check_input('Does the individual has a long hair?     ', 1)\n",
    "wide_nose = check_input('Does the individual has a wide nose?     ', 1)\n",
    "long_nose = check_input('Does the individual has a long nose?     ', 1)\n",
    "lip_thin = check_input('Does the individual has a thin lip?      ', 1)\n",
    "long_philtrum = check_input('Does the individual has a long philtrum? ', 1)\n",
    "\n",
    "input_data = [hair, forehead_width, forehead_height, wide_nose, long_nose, lip_thin, long_philtrum]\n",
    "prediction = best_model.predict([input_data])\n",
    "if prediction == ['Male']:\n",
    "    pred = 'Male'\n",
    "else:\n",
    "    pred = 'Female'\n",
    "\n",
    "print(\"\\n------------------------------------------------------------------------\")\n",
    "print(\"\\nThe predicted gender =\", pred)"
   ]
  }
 ],
 "metadata": {
  "kernelspec": {
   "display_name": "Python 3",
   "language": "python",
   "name": "python3"
  },
  "language_info": {
   "codemirror_mode": {
    "name": "ipython",
    "version": 3
   },
   "file_extension": ".py",
   "mimetype": "text/x-python",
   "name": "python",
   "nbconvert_exporter": "python",
   "pygments_lexer": "ipython3",
   "version": "3.8.3"
  }
 },
 "nbformat": 4,
 "nbformat_minor": 4
}
